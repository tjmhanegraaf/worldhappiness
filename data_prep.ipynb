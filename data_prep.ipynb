{
 "cells": [
  {
   "cell_type": "code",
   "execution_count": 31,
   "metadata": {},
   "outputs": [],
   "source": [
    "# init\n",
    "import os\n",
    "import pandas as pd\n",
    "import numpy as np"
   ]
  },
  {
   "cell_type": "code",
   "execution_count": 32,
   "metadata": {},
   "outputs": [],
   "source": [
    "# file management\n",
    "input_file_path = './data/data.csv'\n",
    "output_file_path = './data/output/'\n",
    "output_file_name = 'happiness.csv'\n"
   ]
  },
  {
   "cell_type": "code",
   "execution_count": 33,
   "metadata": {},
   "outputs": [],
   "source": [
    "# read happiness data\n",
    "data = pd.read_csv(input_file_path)\n",
    "\n",
    "# rename columns\n",
    "data = data.rename(columns={\n",
    "    'Year': 'year',\n",
    "    'Rank': 'rank',\n",
    "    'Country': 'country',\n",
    "    'Ladder score': 'score',\n",
    "    'upperwhisker': 'upper_whisker',\n",
    "    'lowerwhisker': 'lower_whisker',\n",
    "    'Explained by: Log GDP per capita': 'gdp',\n",
    "    'Explained by: Social support': 'social_support',\n",
    "    'Explained by: Healthy life expectancy': 'life_expectancy',\n",
    "    'Explained by: Freedom to make life choices': 'freedom',\n",
    "    'Explained by: Generosity': 'generosity',\n",
    "    'Explained by: Perceptions of corruption': 'corruption',\n",
    "    'Dystopia + residual': 'dystopia'\n",
    "})\n",
    "\n",
    "# only 2024 data \n",
    "data = data[data['year'] == 2024]\n"
   ]
  },
  {
   "cell_type": "code",
   "execution_count": 34,
   "metadata": {},
   "outputs": [],
   "source": [
    "# select columns\n",
    "selected_columns = data.iloc[:, 6:13]\n",
    "\n",
    "# Calculate the mean and standard deviation for each row in the selected columns\n",
    "col_mean = selected_columns.mean(axis=0)\n",
    "col_std = selected_columns.std(axis=0)\n",
    "\n",
    "stds_per_column = (selected_columns - col_mean) / col_std\n"
   ]
  },
  {
   "cell_type": "code",
   "execution_count": 35,
   "metadata": {},
   "outputs": [
    {
     "name": "stdout",
     "output_type": "stream",
     "text": [
      "0            Finland\n",
      "13           Denmark\n",
      "26           Iceland\n",
      "45            Sweden\n",
      "58       Netherlands\n",
      "            ...     \n",
      "1905        Zimbabwe\n",
      "1918          Malawi\n",
      "1931         Lebanon\n",
      "1943    Sierra Leone\n",
      "1956     Afghanistan\n",
      "Name: Country name, Length: 147, dtype: object\n"
     ]
    }
   ],
   "source": [
    "# retain country name, rank and score\n",
    "data_subset = data.iloc[:,1:4]\n",
    "data_output = data_subset.join(stds_per_column)\n",
    "\n",
    "# sort alphabetically by country\n",
    "data = data.sort_values(by='Country name', ascending=False)\n",
    "# reset indexes\n",
    "# data_output = data_output.reset_index(drop=True)\n",
    "print(data_output['Country name'])\n"
   ]
  },
  {
   "cell_type": "code",
   "execution_count": 36,
   "metadata": {},
   "outputs": [
    {
     "name": "stdout",
     "output_type": "stream",
     "text": [
      "Saving file to: ./data/output/happiness.csv\n"
     ]
    }
   ],
   "source": [
    "# create dir if not exists\n",
    "if not os.path.exists(output_file_path):\n",
    "    os.makedirs(output_file_path)\n",
    "\n",
    "print(f\"Saving file to: {output_file_path + output_file_name}\")\n",
    "\n",
    "# store csv\n",
    "data_output.to_csv(output_file_path + output_file_name, index=False)"
   ]
  },
  {
   "cell_type": "code",
   "execution_count": null,
   "metadata": {},
   "outputs": [],
   "source": []
  }
 ],
 "metadata": {
  "kernelspec": {
   "display_name": "Python 3",
   "language": "python",
   "name": "python3"
  },
  "language_info": {
   "codemirror_mode": {
    "name": "ipython",
    "version": 3
   },
   "file_extension": ".py",
   "mimetype": "text/x-python",
   "name": "python",
   "nbconvert_exporter": "python",
   "pygments_lexer": "ipython3",
   "version": "3.11.9"
  }
 },
 "nbformat": 4,
 "nbformat_minor": 2
}
